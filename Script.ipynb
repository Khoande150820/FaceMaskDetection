{
 "cells": [
  {
   "cell_type": "code",
   "execution_count": 1,
   "metadata": {},
   "outputs": [],
   "source": [
    "# !pip install tensorflow\n",
    "# !pip install tflearn\n",
    "# !pip install tqdm"
   ]
  },
  {
   "cell_type": "code",
   "execution_count": 5,
   "metadata": {},
   "outputs": [],
   "source": [
    "import pandas as pd\n",
    "import numpy as np\n",
    "import seaborn as sns\n",
    "import os\n",
    "from sklearn.utils import shuffle\n",
    "import matplotlib.pyplot as plt\n",
    "from keras.preprocessing.image import ImageDataGenerator, img_to_array, load_img\n",
    "import cv2\n",
    "from scipy.spatial import distance\n",
    "from random import shuffle\n",
    "from tqdm import tqdm\n",
    "from sklearn.preprocessing import LabelEncoder"
   ]
  },
  {
   "cell_type": "code",
   "execution_count": 3,
   "metadata": {},
   "outputs": [],
   "source": [
    "MASK_PATH_TRAIN = \"Face Mask Dataset/Train/WithMask\"\n",
    "WITHOUT_MASK_PATH_TRAIN = \"Face Mask Dataset/Train/WithoutMask\"\n",
    "MASK_PATH_TEST = \"Face Mask Dataset/Test/WithMask\"\n",
    "WITHOUT_MASK_PATH_TEST = \"Face Mask Dataset/Test/WithoutMask\"\n",
    "MASK_PATH_VALID = \"Face Mask Dataset/Validation/WithMask\"\n",
    "WITHOUT_MASK_PATH_VALID = \"Face Mask Dataset/Validation/WithoutMask\""
   ]
  },
  {
   "cell_type": "code",
   "execution_count": 4,
   "metadata": {},
   "outputs": [],
   "source": [
    "def get_image_set(path, target):\n",
    "    image_set = []\n",
    "    target_set = []\n",
    "    for i in os.listdir(path):\n",
    "        pic = os.path.join(path+\"/\",i)\n",
    "        image_set.append(pic)\n",
    "        target_set.append(target)\n",
    "    return image_set, target_set"
   ]
  },
  {
   "cell_type": "code",
   "execution_count": 6,
   "metadata": {},
   "outputs": [],
   "source": [
    "encoder = LabelEncoder()"
   ]
  },
  {
   "cell_type": "code",
   "execution_count": 9,
   "metadata": {},
   "outputs": [
    {
     "data": {
      "text/html": [
       "<div>\n",
       "<style scoped>\n",
       "    .dataframe tbody tr th:only-of-type {\n",
       "        vertical-align: middle;\n",
       "    }\n",
       "\n",
       "    .dataframe tbody tr th {\n",
       "        vertical-align: top;\n",
       "    }\n",
       "\n",
       "    .dataframe thead th {\n",
       "        text-align: right;\n",
       "    }\n",
       "</style>\n",
       "<table border=\"1\" class=\"dataframe\">\n",
       "  <thead>\n",
       "    <tr style=\"text-align: right;\">\n",
       "      <th></th>\n",
       "      <th>image</th>\n",
       "      <th>target</th>\n",
       "    </tr>\n",
       "  </thead>\n",
       "  <tbody>\n",
       "    <tr>\n",
       "      <th>4950</th>\n",
       "      <td>Face Mask Dataset/Train/WithMask/Augmented_90_...</td>\n",
       "      <td>mask</td>\n",
       "    </tr>\n",
       "    <tr>\n",
       "      <th>1628</th>\n",
       "      <td>Face Mask Dataset/Train/WithMask/Augmented_265...</td>\n",
       "      <td>mask</td>\n",
       "    </tr>\n",
       "    <tr>\n",
       "      <th>793</th>\n",
       "      <td>Face Mask Dataset/Train/WithMask/Augmented_109...</td>\n",
       "      <td>mask</td>\n",
       "    </tr>\n",
       "    <tr>\n",
       "      <th>6163</th>\n",
       "      <td>Face Mask Dataset/Train/WithoutMask/2257.png</td>\n",
       "      <td>without_mask</td>\n",
       "    </tr>\n",
       "    <tr>\n",
       "      <th>588</th>\n",
       "      <td>Face Mask Dataset/Train/WithMask/641.png</td>\n",
       "      <td>mask</td>\n",
       "    </tr>\n",
       "    <tr>\n",
       "      <th>...</th>\n",
       "      <td>...</td>\n",
       "      <td>...</td>\n",
       "    </tr>\n",
       "    <tr>\n",
       "      <th>4780</th>\n",
       "      <td>Face Mask Dataset/Train/WithMask/Augmented_864...</td>\n",
       "      <td>mask</td>\n",
       "    </tr>\n",
       "    <tr>\n",
       "      <th>1709</th>\n",
       "      <td>Face Mask Dataset/Train/WithMask/Augmented_280...</td>\n",
       "      <td>mask</td>\n",
       "    </tr>\n",
       "    <tr>\n",
       "      <th>4039</th>\n",
       "      <td>Face Mask Dataset/Train/WithMask/Augmented_720...</td>\n",
       "      <td>mask</td>\n",
       "    </tr>\n",
       "    <tr>\n",
       "      <th>9254</th>\n",
       "      <td>Face Mask Dataset/Train/WithoutMask/560.png</td>\n",
       "      <td>without_mask</td>\n",
       "    </tr>\n",
       "    <tr>\n",
       "      <th>4105</th>\n",
       "      <td>Face Mask Dataset/Train/WithMask/Augmented_733...</td>\n",
       "      <td>mask</td>\n",
       "    </tr>\n",
       "  </tbody>\n",
       "</table>\n",
       "<p>9982 rows × 2 columns</p>\n",
       "</div>"
      ],
      "text/plain": [
       "                                                  image        target\n",
       "4950  Face Mask Dataset/Train/WithMask/Augmented_90_...          mask\n",
       "1628  Face Mask Dataset/Train/WithMask/Augmented_265...          mask\n",
       "793   Face Mask Dataset/Train/WithMask/Augmented_109...          mask\n",
       "6163       Face Mask Dataset/Train/WithoutMask/2257.png  without_mask\n",
       "588            Face Mask Dataset/Train/WithMask/641.png          mask\n",
       "...                                                 ...           ...\n",
       "4780  Face Mask Dataset/Train/WithMask/Augmented_864...          mask\n",
       "1709  Face Mask Dataset/Train/WithMask/Augmented_280...          mask\n",
       "4039  Face Mask Dataset/Train/WithMask/Augmented_720...          mask\n",
       "9254        Face Mask Dataset/Train/WithoutMask/560.png  without_mask\n",
       "4105  Face Mask Dataset/Train/WithMask/Augmented_733...          mask\n",
       "\n",
       "[9982 rows x 2 columns]"
      ]
     },
     "execution_count": 9,
     "metadata": {},
     "output_type": "execute_result"
    }
   ],
   "source": [
    "train_image_mask, train_target_mask = get_image_set(MASK_PATH_TRAIN, \"mask\")\n",
    "image_no_mask, target_no_mask = get_image_set(WITHOUT_MASK_PATH_TRAIN, \"without_mask\")\n",
    "mask = pd.DataFrame()\n",
    "mask[\"image\"] = train_image_mask\n",
    "mask[\"target\"] = train_target_mask\n",
    "without_mask = pd.DataFrame()\n",
    "without_mask[\"image\"] = image_no_mask\n",
    "without_mask[\"target\"] = target_no_mask\n",
    "train_data = pd.concat([mask, without_mask], axis=0,ignore_index=True)\n",
    "train_data = train_data.sample(frac=1)\n",
    "train_data"
   ]
  },
  {
   "cell_type": "code",
   "execution_count": 38,
   "metadata": {
    "scrolled": true
   },
   "outputs": [
    {
     "data": {
      "text/html": [
       "<div>\n",
       "<style scoped>\n",
       "    .dataframe tbody tr th:only-of-type {\n",
       "        vertical-align: middle;\n",
       "    }\n",
       "\n",
       "    .dataframe tbody tr th {\n",
       "        vertical-align: top;\n",
       "    }\n",
       "\n",
       "    .dataframe thead th {\n",
       "        text-align: right;\n",
       "    }\n",
       "</style>\n",
       "<table border=\"1\" class=\"dataframe\">\n",
       "  <thead>\n",
       "    <tr style=\"text-align: right;\">\n",
       "      <th></th>\n",
       "      <th>image</th>\n",
       "      <th>target</th>\n",
       "    </tr>\n",
       "  </thead>\n",
       "  <tbody>\n",
       "    <tr>\n",
       "      <th>449</th>\n",
       "      <td>Face Mask Dataset/Test/WithMask/Augmented_82_1...</td>\n",
       "      <td>mask</td>\n",
       "    </tr>\n",
       "    <tr>\n",
       "      <th>577</th>\n",
       "      <td>Face Mask Dataset/Test/WithoutMask/2051.png</td>\n",
       "      <td>without_mask</td>\n",
       "    </tr>\n",
       "    <tr>\n",
       "      <th>376</th>\n",
       "      <td>Face Mask Dataset/Test/WithMask/Augmented_686_...</td>\n",
       "      <td>mask</td>\n",
       "    </tr>\n",
       "    <tr>\n",
       "      <th>25</th>\n",
       "      <td>Face Mask Dataset/Test/WithMask/1767.png</td>\n",
       "      <td>mask</td>\n",
       "    </tr>\n",
       "    <tr>\n",
       "      <th>324</th>\n",
       "      <td>Face Mask Dataset/Test/WithMask/Augmented_56_3...</td>\n",
       "      <td>mask</td>\n",
       "    </tr>\n",
       "    <tr>\n",
       "      <th>...</th>\n",
       "      <td>...</td>\n",
       "      <td>...</td>\n",
       "    </tr>\n",
       "    <tr>\n",
       "      <th>915</th>\n",
       "      <td>Face Mask Dataset/Test/WithoutMask/5675.png</td>\n",
       "      <td>without_mask</td>\n",
       "    </tr>\n",
       "    <tr>\n",
       "      <th>432</th>\n",
       "      <td>Face Mask Dataset/Test/WithMask/Augmented_796_...</td>\n",
       "      <td>mask</td>\n",
       "    </tr>\n",
       "    <tr>\n",
       "      <th>388</th>\n",
       "      <td>Face Mask Dataset/Test/WithMask/Augmented_707_...</td>\n",
       "      <td>mask</td>\n",
       "    </tr>\n",
       "    <tr>\n",
       "      <th>456</th>\n",
       "      <td>Face Mask Dataset/Test/WithMask/Augmented_844_...</td>\n",
       "      <td>mask</td>\n",
       "    </tr>\n",
       "    <tr>\n",
       "      <th>293</th>\n",
       "      <td>Face Mask Dataset/Test/WithMask/Augmented_522_...</td>\n",
       "      <td>mask</td>\n",
       "    </tr>\n",
       "  </tbody>\n",
       "</table>\n",
       "<p>992 rows × 2 columns</p>\n",
       "</div>"
      ],
      "text/plain": [
       "                                                 image        target\n",
       "449  Face Mask Dataset/Test/WithMask/Augmented_82_1...          mask\n",
       "577        Face Mask Dataset/Test/WithoutMask/2051.png  without_mask\n",
       "376  Face Mask Dataset/Test/WithMask/Augmented_686_...          mask\n",
       "25            Face Mask Dataset/Test/WithMask/1767.png          mask\n",
       "324  Face Mask Dataset/Test/WithMask/Augmented_56_3...          mask\n",
       "..                                                 ...           ...\n",
       "915        Face Mask Dataset/Test/WithoutMask/5675.png  without_mask\n",
       "432  Face Mask Dataset/Test/WithMask/Augmented_796_...          mask\n",
       "388  Face Mask Dataset/Test/WithMask/Augmented_707_...          mask\n",
       "456  Face Mask Dataset/Test/WithMask/Augmented_844_...          mask\n",
       "293  Face Mask Dataset/Test/WithMask/Augmented_522_...          mask\n",
       "\n",
       "[992 rows x 2 columns]"
      ]
     },
     "execution_count": 38,
     "metadata": {},
     "output_type": "execute_result"
    }
   ],
   "source": [
    "test_image_mask, test_target_mask = get_image_set(MASK_PATH_TEST, \"mask\")\n",
    "test_image_no_mask, test_target_no_mask = get_image_set(WITHOUT_MASK_PATH_TEST,\"without_mask\")\n",
    "mask = pd.DataFrame()\n",
    "mask[\"image\"] = test_image_mask\n",
    "mask[\"target\"] = test_target_mask\n",
    "without_mask = pd.DataFrame()\n",
    "without_mask[\"image\"] = test_image_no_mask\n",
    "without_mask[\"target\"] = test_target_no_mask\n",
    "test_data = pd.concat([mask, without_mask], axis=0,ignore_index=True)\n",
    "test_data = test_data.sample(frac=1)\n",
    "test_data"
   ]
  },
  {
   "cell_type": "code",
   "execution_count": 39,
   "metadata": {},
   "outputs": [
    {
     "data": {
      "text/html": [
       "<div>\n",
       "<style scoped>\n",
       "    .dataframe tbody tr th:only-of-type {\n",
       "        vertical-align: middle;\n",
       "    }\n",
       "\n",
       "    .dataframe tbody tr th {\n",
       "        vertical-align: top;\n",
       "    }\n",
       "\n",
       "    .dataframe thead th {\n",
       "        text-align: right;\n",
       "    }\n",
       "</style>\n",
       "<table border=\"1\" class=\"dataframe\">\n",
       "  <thead>\n",
       "    <tr style=\"text-align: right;\">\n",
       "      <th></th>\n",
       "      <th>image</th>\n",
       "      <th>target</th>\n",
       "    </tr>\n",
       "  </thead>\n",
       "  <tbody>\n",
       "    <tr>\n",
       "      <th>116</th>\n",
       "      <td>Face Mask Dataset/Validation/WithMask/Augmente...</td>\n",
       "      <td>mask</td>\n",
       "    </tr>\n",
       "    <tr>\n",
       "      <th>307</th>\n",
       "      <td>Face Mask Dataset/Validation/WithMask/Augmente...</td>\n",
       "      <td>mask</td>\n",
       "    </tr>\n",
       "    <tr>\n",
       "      <th>199</th>\n",
       "      <td>Face Mask Dataset/Validation/WithMask/Augmente...</td>\n",
       "      <td>mask</td>\n",
       "    </tr>\n",
       "    <tr>\n",
       "      <th>653</th>\n",
       "      <td>Face Mask Dataset/Validation/WithoutMask/4397.png</td>\n",
       "      <td>without_mask</td>\n",
       "    </tr>\n",
       "    <tr>\n",
       "      <th>156</th>\n",
       "      <td>Face Mask Dataset/Validation/WithMask/Augmente...</td>\n",
       "      <td>mask</td>\n",
       "    </tr>\n",
       "    <tr>\n",
       "      <th>...</th>\n",
       "      <td>...</td>\n",
       "      <td>...</td>\n",
       "    </tr>\n",
       "    <tr>\n",
       "      <th>704</th>\n",
       "      <td>Face Mask Dataset/Validation/WithoutMask/5106.png</td>\n",
       "      <td>without_mask</td>\n",
       "    </tr>\n",
       "    <tr>\n",
       "      <th>550</th>\n",
       "      <td>Face Mask Dataset/Validation/WithoutMask/3007.png</td>\n",
       "      <td>without_mask</td>\n",
       "    </tr>\n",
       "    <tr>\n",
       "      <th>422</th>\n",
       "      <td>Face Mask Dataset/Validation/WithoutMask/1374.png</td>\n",
       "      <td>without_mask</td>\n",
       "    </tr>\n",
       "    <tr>\n",
       "      <th>520</th>\n",
       "      <td>Face Mask Dataset/Validation/WithoutMask/2536.png</td>\n",
       "      <td>without_mask</td>\n",
       "    </tr>\n",
       "    <tr>\n",
       "      <th>46</th>\n",
       "      <td>Face Mask Dataset/Validation/WithMask/569.png</td>\n",
       "      <td>mask</td>\n",
       "    </tr>\n",
       "  </tbody>\n",
       "</table>\n",
       "<p>800 rows × 2 columns</p>\n",
       "</div>"
      ],
      "text/plain": [
       "                                                 image        target\n",
       "116  Face Mask Dataset/Validation/WithMask/Augmente...          mask\n",
       "307  Face Mask Dataset/Validation/WithMask/Augmente...          mask\n",
       "199  Face Mask Dataset/Validation/WithMask/Augmente...          mask\n",
       "653  Face Mask Dataset/Validation/WithoutMask/4397.png  without_mask\n",
       "156  Face Mask Dataset/Validation/WithMask/Augmente...          mask\n",
       "..                                                 ...           ...\n",
       "704  Face Mask Dataset/Validation/WithoutMask/5106.png  without_mask\n",
       "550  Face Mask Dataset/Validation/WithoutMask/3007.png  without_mask\n",
       "422  Face Mask Dataset/Validation/WithoutMask/1374.png  without_mask\n",
       "520  Face Mask Dataset/Validation/WithoutMask/2536.png  without_mask\n",
       "46       Face Mask Dataset/Validation/WithMask/569.png          mask\n",
       "\n",
       "[800 rows x 2 columns]"
      ]
     },
     "execution_count": 39,
     "metadata": {},
     "output_type": "execute_result"
    }
   ],
   "source": [
    "valid_image_mask, valid_target_mask = get_image_set(MASK_PATH_VALID, \"mask\")\n",
    "valid_image_no_mask, valid_target_no_mask = get_image_set(WITHOUT_MASK_PATH_VALID,\"without_mask\")\n",
    "mask = pd.DataFrame()\n",
    "mask[\"image\"] = valid_image_mask\n",
    "mask[\"target\"] = valid_target_mask\n",
    "without_mask = pd.DataFrame()\n",
    "without_mask[\"image\"] = valid_image_no_mask\n",
    "without_mask[\"target\"] = valid_target_no_mask\n",
    "valid_data = pd.concat([mask, without_mask], axis=0,ignore_index=True)\n",
    "valid_data = valid_data.sample(frac=1)\n",
    "valid_data"
   ]
  },
  {
   "cell_type": "code",
   "execution_count": 10,
   "metadata": {},
   "outputs": [
    {
     "name": "stdout",
     "output_type": "stream",
     "text": [
      "Model: \"sequential\"\n",
      "_________________________________________________________________\n",
      "Layer (type)                 Output Shape              Param #   \n",
      "=================================================================\n",
      "vgg19 (Functional)           (None, 4, 4, 512)         20024384  \n",
      "_________________________________________________________________\n",
      "flatten (Flatten)            (None, 8192)              0         \n",
      "_________________________________________________________________\n",
      "dense (Dense)                (None, 1)                 8193      \n",
      "=================================================================\n",
      "Total params: 20,032,577\n",
      "Trainable params: 8,193\n",
      "Non-trainable params: 20,024,384\n",
      "_________________________________________________________________\n"
     ]
    }
   ],
   "source": [
    "from tensorflow.keras import layers\n",
    "from tensorflow.keras import models\n",
    "from tensorflow.keras import optimizers\n",
    "from tensorflow.keras.applications.vgg19 import VGG19\n",
    "from tensorflow.keras.applications.vgg19 import preprocess_input\n",
    "\n",
    "\n",
    "vgg19 = VGG19(weights=\"imagenet\", include_top=False, input_shape=(128,128,3))\n",
    "for layer in vgg19.layers:\n",
    "    layer.trainable = False\n",
    "\n",
    "model = models.Sequential()\n",
    "model.add(vgg19)\n",
    "model.add(layers.Flatten())\n",
    "model.add(layers.Dense(1,activation=\"sigmoid\"))\n",
    "model.summary()"
   ]
  },
  {
   "cell_type": "code",
   "execution_count": 45,
   "metadata": {},
   "outputs": [
    {
     "name": "stdout",
     "output_type": "stream",
     "text": [
      "Found 5466 validated image filenames belonging to 2 classes.\n",
      "Found 992 validated image filenames belonging to 2 classes.\n",
      "Found 800 validated image filenames belonging to 2 classes.\n"
     ]
    }
   ],
   "source": [
    "train_data_generator = ImageDataGenerator(rescale=1./255,\n",
    "                                          rotation_range=40,\n",
    "                                          width_shift_range=0.2,\n",
    "                                          height_shift_range=0.2,\n",
    "                                          shear_range=0.2,\n",
    "                                          zoom_range=0.2,\n",
    "                                          fill_mode=\"nearest\"\n",
    "                                         )\n",
    "train_generator = train_data_generator.flow_from_dataframe(dataframe=train_data,\n",
    "                                                          x_col= \"image\",\n",
    "                                                          y_col = \"target\",\n",
    "                                                          target_size = (150,150),\n",
    "                                                          batch_size = 32,\n",
    "                                                          class_mode = \"binary\")\n",
    "test_generator = train_data_generator.flow_from_dataframe(dataframe=test_data,\n",
    "                                                          x_col= \"image\",\n",
    "                                                          y_col = \"target\",\n",
    "                                                          target_size = (150,150),\n",
    "                                                          batch_size = 32,\n",
    "                                                          class_mode = \"binary\")\n",
    "valid_generator = train_data_generator.flow_from_dataframe(dataframe=valid_data,\n",
    "                                                          x_col= \"image\",\n",
    "                                                          y_col = \"target\",\n",
    "                                                          target_size = (150,150),\n",
    "                                                          batch_size = 32,\n",
    "                                                          class_mode = \"binary\")"
   ]
  },
  {
   "cell_type": "code",
   "execution_count": 54,
   "metadata": {},
   "outputs": [],
   "source": [
    "model.compile(loss = 'binary_crossentropy',\n",
    "             optimizer= optimizers.RMSprop(lr=1e-3),\n",
    "             metrics = [\"acc\"])"
   ]
  },
  {
   "cell_type": "code",
   "execution_count": 56,
   "metadata": {
    "scrolled": true
   },
   "outputs": [
    {
     "name": "stdout",
     "output_type": "stream",
     "text": [
      "Epoch 1/50\n",
      "5/5 [==============================] - 11s 2s/step - loss: 0.3798 - acc: 0.8438\n",
      "Epoch 2/50\n",
      "5/5 [==============================] - 8s 1s/step - loss: 0.2893 - acc: 0.9125\n",
      "Epoch 3/50\n",
      "5/5 [==============================] - 8s 1s/step - loss: 0.2335 - acc: 0.9125\n",
      "Epoch 4/50\n",
      "5/5 [==============================] - 8s 1s/step - loss: 0.2126 - acc: 0.9312\n",
      "Epoch 5/50\n",
      "5/5 [==============================] - 8s 1s/step - loss: 0.2018 - acc: 0.9250\n",
      "Epoch 6/50\n",
      "5/5 [==============================] - 8s 1s/step - loss: 0.2641 - acc: 0.9062\n",
      "Epoch 7/50\n",
      "5/5 [==============================] - 8s 1s/step - loss: 0.2023 - acc: 0.9312\n",
      "Epoch 8/50\n",
      "5/5 [==============================] - 8s 1s/step - loss: 0.1938 - acc: 0.9250\n",
      "Epoch 9/50\n",
      "5/5 [==============================] - 7s 1s/step - loss: 0.1428 - acc: 0.9438\n",
      "Epoch 10/50\n",
      "5/5 [==============================] - 8s 1s/step - loss: 0.1677 - acc: 0.9500\n",
      "Epoch 11/50\n",
      "5/5 [==============================] - 7s 1s/step - loss: 0.1388 - acc: 0.9563\n",
      "Epoch 12/50\n",
      "5/5 [==============================] - 8s 2s/step - loss: 0.1629 - acc: 0.9500\n",
      "Epoch 13/50\n",
      "5/5 [==============================] - 8s 1s/step - loss: 0.1806 - acc: 0.9375\n",
      "Epoch 14/50\n",
      "5/5 [==============================] - 9s 2s/step - loss: 0.1046 - acc: 0.9750\n",
      "Epoch 15/50\n",
      "5/5 [==============================] - 8s 1s/step - loss: 0.1169 - acc: 0.9688\n",
      "Epoch 16/50\n",
      "5/5 [==============================] - 8s 2s/step - loss: 0.1329 - acc: 0.9625\n",
      "Epoch 17/50\n",
      "5/5 [==============================] - 8s 1s/step - loss: 0.1657 - acc: 0.9312\n",
      "Epoch 18/50\n",
      "5/5 [==============================] - 8s 1s/step - loss: 0.0783 - acc: 0.9812\n",
      "Epoch 19/50\n",
      "5/5 [==============================] - 8s 1s/step - loss: 0.1596 - acc: 0.9438\n",
      "Epoch 20/50\n",
      "5/5 [==============================] - 8s 2s/step - loss: 0.2312 - acc: 0.9187\n",
      "Epoch 21/50\n",
      "5/5 [==============================] - 8s 2s/step - loss: 0.0785 - acc: 0.9688\n",
      "Epoch 22/50\n",
      "5/5 [==============================] - 8s 2s/step - loss: 0.1096 - acc: 0.9688\n",
      "Epoch 23/50\n",
      "5/5 [==============================] - 8s 1s/step - loss: 0.1133 - acc: 0.9563\n",
      "Epoch 24/50\n",
      "5/5 [==============================] - 8s 2s/step - loss: 0.1602 - acc: 0.9500\n",
      "Epoch 25/50\n",
      "5/5 [==============================] - 8s 1s/step - loss: 0.0958 - acc: 0.9688\n",
      "Epoch 26/50\n",
      "5/5 [==============================] - 7s 1s/step - loss: 0.0806 - acc: 0.9812\n",
      "Epoch 27/50\n",
      "5/5 [==============================] - 8s 1s/step - loss: 0.1011 - acc: 0.9625\n",
      "Epoch 28/50\n",
      "5/5 [==============================] - 7s 1s/step - loss: 0.1576 - acc: 0.9312\n",
      "Epoch 29/50\n",
      "5/5 [==============================] - 7s 1s/step - loss: 0.1519 - acc: 0.9563\n",
      "Epoch 30/50\n",
      "5/5 [==============================] - 7s 1s/step - loss: 0.0911 - acc: 0.9750\n",
      "Epoch 31/50\n",
      "5/5 [==============================] - 8s 2s/step - loss: 0.1508 - acc: 0.9625\n",
      "Epoch 32/50\n",
      "5/5 [==============================] - 8s 1s/step - loss: 0.0696 - acc: 0.9812\n",
      "Epoch 33/50\n",
      "5/5 [==============================] - 7s 1s/step - loss: 0.0575 - acc: 0.9875\n",
      "Epoch 34/50\n",
      "5/5 [==============================] - 7s 1s/step - loss: 0.0891 - acc: 0.9750\n",
      "Epoch 35/50\n",
      "5/5 [==============================] - 7s 1s/step - loss: 0.0787 - acc: 0.9610\n",
      "Epoch 36/50\n",
      "5/5 [==============================] - 7s 1s/step - loss: 0.0614 - acc: 0.9750\n",
      "Epoch 37/50\n",
      "5/5 [==============================] - 8s 1s/step - loss: 0.0917 - acc: 0.9563\n",
      "Epoch 38/50\n",
      "5/5 [==============================] - 8s 2s/step - loss: 0.1565 - acc: 0.9375\n",
      "Epoch 39/50\n",
      "5/5 [==============================] - 8s 2s/step - loss: 0.1446 - acc: 0.9351\n",
      "Epoch 40/50\n",
      "5/5 [==============================] - 8s 2s/step - loss: 0.0567 - acc: 0.9937\n",
      "Epoch 41/50\n",
      "5/5 [==============================] - 7s 1s/step - loss: 0.1326 - acc: 0.9563\n",
      "Epoch 42/50\n",
      "5/5 [==============================] - 8s 1s/step - loss: 0.0738 - acc: 0.9750\n",
      "Epoch 43/50\n",
      "5/5 [==============================] - 7s 1s/step - loss: 0.0597 - acc: 0.9875\n",
      "Epoch 44/50\n",
      "5/5 [==============================] - 9s 2s/step - loss: 0.1368 - acc: 0.9438\n",
      "Epoch 45/50\n",
      "5/5 [==============================] - 7s 1s/step - loss: 0.0981 - acc: 0.9688\n",
      "Epoch 46/50\n",
      "5/5 [==============================] - 8s 1s/step - loss: 0.1088 - acc: 0.9563\n",
      "Epoch 47/50\n",
      "5/5 [==============================] - 8s 1s/step - loss: 0.0979 - acc: 0.9750\n",
      "Epoch 48/50\n",
      "5/5 [==============================] - 8s 1s/step - loss: 0.0949 - acc: 0.9688\n",
      "Epoch 49/50\n",
      "5/5 [==============================] - 8s 2s/step - loss: 0.0527 - acc: 0.9812\n",
      "Epoch 50/50\n",
      "5/5 [==============================] - 8s 2s/step - loss: 0.0907 - acc: 0.9750\n"
     ]
    }
   ],
   "source": [
    "history = model.fit(train_generator,\n",
    "                    steps_per_epoch=len(train_generator)//32,\n",
    "                    epochs=50,\n",
    "                    validation_data=valid_generator,\n",
    "                    validation_steps=len(valid_generator)//32)"
   ]
  },
  {
   "cell_type": "code",
   "execution_count": 60,
   "metadata": {},
   "outputs": [
    {
     "name": "stdout",
     "output_type": "stream",
     "text": [
      "INFO:tensorflow:Assets written to: model\\assets\n"
     ]
    }
   ],
   "source": [
    "model.save(\"model\")"
   ]
  },
  {
   "cell_type": "code",
   "execution_count": 67,
   "metadata": {},
   "outputs": [
    {
     "data": {
      "text/plain": [
       "<matplotlib.image.AxesImage at 0x1f7d026fc40>"
      ]
     },
     "execution_count": 67,
     "metadata": {},
     "output_type": "execute_result"
    },
    {
     "data": {
      "image/png": "[encoded data removed]",
      "text/plain": [
       "<Figure size 864x864 with 1 Axes>"
      ]
     },
     "metadata": {
      "needs_background": "light"
     },
     "output_type": "display_data"
    }
   ],
   "source": [
    "face_model = cv2.CascadeClassifier('haarcascades/haarcascade_frontalface_default.xml')\n",
    "img = cv2.imread('Face Mask Dataset/Train/WithMask/1058.png')\n",
    "\n",
    "img = cv2.cvtColor(img, cv2.IMREAD_GRAYSCALE)\n",
    "\n",
    "faces = face_model.detectMultiScale(img,scaleFactor=1.1, minNeighbors=4)\n",
    "\n",
    "out_img = cv2.cvtColor(img, cv2.COLOR_RGB2BGR)\n",
    "\n",
    "for (x,y,w,h) in faces:\n",
    "    cv2.rectangle(out_img,(x,y),(x+w,y+h),(0,0,255),1)\n",
    "plt.figure(figsize=(12,12))\n",
    "plt.imshow(out_img)"
   ]
  },
  {
   "cell_type": "code",
   "execution_count": 69,
   "metadata": {},
   "outputs": [
    {
     "data": {
      "text/plain": [
       "array([[0.03515759]], dtype=float32)"
      ]
     },
     "execution_count": 69,
     "metadata": {},
     "output_type": "execute_result"
    }
   ],
   "source": [
    "sample_mask_img = cv2.imread('Face Mask Dataset/Train/WithMask/1058.png')\n",
    "sample_mask_img = cv2.resize(sample_mask_img,(128,128))\n",
    "sample_mask_img = np.reshape(sample_mask_img,[1,128,128,3])\n",
    "sample_mask_img = sample_mask_img/255.0\n",
    "model.predict(sample_mask_img)"
   ]
  },
  {
   "cell_type": "code",
   "execution_count": 71,
   "metadata": {},
   "outputs": [
    {
     "data": {
      "image/png": "[encoded data removed]",
      "text/plain": [
       "<Figure size 720x720 with 1 Axes>"
      ]
     },
     "metadata": {
      "needs_background": "light"
     },
     "output_type": "display_data"
    }
   ],
   "source": [
    "mask_label = {0:'OK!',1:'Busted'}\n",
    "dist_label = {0:(0,255,0),1:(255,0,0)}\n",
    "MIN_DISTANCE = 0\n",
    "\n",
    "if len(faces)>=1:\n",
    "    label = [0 for i in range(len(faces))]\n",
    "    for i in range(len(faces)-1):\n",
    "        for j in range(i+1, len(faces)):\n",
    "            dist = distance.euclidean(faces[i][:2],faces[j][:2])\n",
    "            if dist<MIN_DISTANCE:\n",
    "                label[i] = 1\n",
    "                label[j] = 1\n",
    "    new_img = cv2.cvtColor(img, cv2.COLOR_RGB2BGR) #colored output image\n",
    "    for i in range(len(faces)):\n",
    "        (x,y,w,h) = faces[i]\n",
    "        crop = new_img[y:y+h,x:x+w]\n",
    "        crop = cv2.resize(crop,(128,128))\n",
    "        crop = np.reshape(crop,[1,128,128,3])/255.0\n",
    "        mask_result = model.predict(crop)\n",
    "        cv2.putText(new_img,mask_label[round(mask_result[0][0])],(x, y+90), cv2.FONT_HERSHEY_SIMPLEX,0.5,dist_label[label[i]],2)\n",
    "        cv2.rectangle(new_img,(x,y),(x+w,y+h),dist_label[label[i]],1)\n",
    "    plt.figure(figsize=(10,10))\n",
    "    plt.imshow(new_img)\n",
    "            \n",
    "else:\n",
    "    print(\"No face!\")"
   ]
  }
 ],
 "metadata": {
  "kernelspec": {
   "display_name": "Python 3",
   "language": "python",
   "name": "python3"
  },
  "language_info": {
   "codemirror_mode": {
    "name": "ipython",
    "version": 3
   },
   "file_extension": ".py",
   "mimetype": "text/x-python",
   "name": "python",
   "nbconvert_exporter": "python",
   "pygments_lexer": "ipython3",
   "version": "3.8.5"
  }
 },
 "nbformat": 4,
 "nbformat_minor": 4
}