{
 "cells": [
  {
   "cell_type": "code",
   "execution_count": 6,
   "metadata": {},
   "outputs": [],
   "source": [
    "import cv2\n",
    "import numpy as np\n",
    "from tensorflow.keras import models\n",
    "\n",
    "FRONTAL_FACES = 'haarcascades/haarcascade_frontalface_default.xml'\n",
    "path = \"image/People-singular-or-plural-People-is-or-are.jpg\"\n",
    "\n",
    "cap = cv2.VideoCapture(1)\n",
    "model = models.load_model(\"model\")\n"
   ]
  },
  {
   "cell_type": "code",
   "execution_count": 24,
   "metadata": {},
   "outputs": [],
   "source": [
    "def result(img):\n",
    "    img = cv2.resize(img,(128,128))\n",
    "    img = np.reshape(img,(1,128,128,3))/255.0\n",
    "    if ((model.predict(img) > 0.5).astype(\"int32\")) == 0:\n",
    "        return \"Have Mask\"\n",
    "    else:\n",
    "        return \"No mask\"\n",
    "\n",
    "\n",
    "def detect_mask(img_path):\n",
    "    face_cascades = cv2.CascadeClassifier(FRONTAL_FACES)\n",
    "    img = cv2.imread(img_path)\n",
    "    if img is None:\n",
    "        print(\"Can't find image\")\n",
    "        return None\n",
    "    else:\n",
    "        gray = cv2.cvtColor(img, cv2.COLOR_BGR2GRAY)\n",
    "        faces = face_cascades.detectMultiScale(gray, 1.1, 3)\n",
    "        if faces is None:\n",
    "            print(\"No face detected!\")\n",
    "            return 0\n",
    "        else:\n",
    "            for (x, y, w, h) in faces:\n",
    "                cv2.rectangle(img, (x, y), (x + w, y + h), (255, 0, 0), 2)\n",
    "                face_detected = img[y:y + h, x:x + w]\n",
    "                print(result(face_detected))\n",
    "                cv2.putText(img, result(face_detected),(x,y-1), cv2.FONT_HERSHEY_SIMPLEX,0.6,(0, 255, 0),2)\n",
    "            cv2.imshow(\"img\", img)\n",
    "            cv2.waitKey(0)\n",
    "            cv2.destroyAllWindows()"
   ]
  },
  {
   "cell_type": "code",
   "execution_count": 27,
   "metadata": {},
   "outputs": [
    {
     "name": "stdout",
     "output_type": "stream",
     "text": [
      "Have Mask\n",
      "No mask\n"
     ]
    }
   ],
   "source": [
    "detect_mask(path)"
   ]
  }
 ],
 "metadata": {
  "kernelspec": {
   "display_name": "Python 3",
   "language": "python",
   "name": "python3"
  },
  "language_info": {
   "codemirror_mode": {
    "name": "ipython",
    "version": 3
   },
   "file_extension": ".py",
   "mimetype": "text/x-python",
   "name": "python",
   "nbconvert_exporter": "python",
   "pygments_lexer": "ipython3",
   "version": "3.8.5"
  }
 },
 "nbformat": 4,
 "nbformat_minor": 4
}
